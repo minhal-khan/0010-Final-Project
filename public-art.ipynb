{
 "cells": [
  {
   "cell_type": "markdown",
   "metadata": {},
   "source": [
    "# Public Art in Pittsburgh Neighborhoods"
   ]
  },
  {
   "cell_type": "markdown",
   "metadata": {},
   "source": [
    "Public art is a spirit of innovation and a tag of the inner-city culture. According to https://www.smartcitiesdive.com/ex/sustainablecitiescollective/how-tough-neighborhood-building-stronger-future-vivid-public-art/91756/, it makes the neighborhoods more vibrant and improves the social environment. Thus, we suppose that more public art pieces in the neighborhood, the better the neighborhood is."
   ]
  },
  {
   "cell_type": "code",
   "execution_count": 10,
   "metadata": {},
   "outputs": [],
   "source": [
    "import pandas as pd\n",
    "import numpy as np\n",
    "%matplotlib inline\n",
    "import matplotlib.pyplot as plt"
   ]
  },
  {
   "cell_type": "markdown",
   "metadata": {},
   "source": [
    "Let's get the public art data from the WPRDC (https://data.wprdc.org/dataset/city-of-pittsburgh-public-art/resource/00d74e83-8a23-486e-841b-286e1332a151?view_id=7c4a2734-ec64-46a0-95ad-39d4fe599ae0).\n",
    "Below shows a sample of what the data looks like on the WPRDC website."
   ]
  },
  {
   "cell_type": "code",
   "execution_count": 11,
   "metadata": {},
   "outputs": [
    {
     "data": {
      "text/html": [
       "<div>\n",
       "<style scoped>\n",
       "    .dataframe tbody tr th:only-of-type {\n",
       "        vertical-align: middle;\n",
       "    }\n",
       "\n",
       "    .dataframe tbody tr th {\n",
       "        vertical-align: top;\n",
       "    }\n",
       "\n",
       "    .dataframe thead th {\n",
       "        text-align: right;\n",
       "    }\n",
       "</style>\n",
       "<table border=\"1\" class=\"dataframe\">\n",
       "  <thead>\n",
       "    <tr style=\"text-align: right;\">\n",
       "      <th></th>\n",
       "      <th>id</th>\n",
       "      <th>name</th>\n",
       "      <th>title</th>\n",
       "      <th>artist_name</th>\n",
       "      <th>art_type</th>\n",
       "      <th>park</th>\n",
       "      <th>image</th>\n",
       "      <th>neighborhood</th>\n",
       "      <th>council_district</th>\n",
       "      <th>ward</th>\n",
       "      <th>tract</th>\n",
       "      <th>public_works_division</th>\n",
       "      <th>pli_division</th>\n",
       "      <th>police_zone</th>\n",
       "      <th>fire_zone</th>\n",
       "      <th>latitude</th>\n",
       "      <th>longitude</th>\n",
       "    </tr>\n",
       "  </thead>\n",
       "  <tbody>\n",
       "    <tr>\n",
       "      <th>0</th>\n",
       "      <td>812728309</td>\n",
       "      <td>1001</td>\n",
       "      <td>Oakwood Road Monument</td>\n",
       "      <td>NaN</td>\n",
       "      <td>NaN</td>\n",
       "      <td>NaN</td>\n",
       "      <td>NaN</td>\n",
       "      <td>Oakwood</td>\n",
       "      <td>2.0</td>\n",
       "      <td>28.0</td>\n",
       "      <td>4.200356e+10</td>\n",
       "      <td>5.0</td>\n",
       "      <td>28.0</td>\n",
       "      <td>6.0</td>\n",
       "      <td>1-19</td>\n",
       "      <td>40.429192</td>\n",
       "      <td>-80.066225</td>\n",
       "    </tr>\n",
       "    <tr>\n",
       "      <th>1</th>\n",
       "      <td>188255168</td>\n",
       "      <td>1002</td>\n",
       "      <td>Rooster Waiting For The Streetcar</td>\n",
       "      <td>James Simon</td>\n",
       "      <td>Modern and Contemporary Art</td>\n",
       "      <td>NaN</td>\n",
       "      <td>NaN</td>\n",
       "      <td>Elliott</td>\n",
       "      <td>2.0</td>\n",
       "      <td>20.0</td>\n",
       "      <td>4.200356e+10</td>\n",
       "      <td>5.0</td>\n",
       "      <td>20.0</td>\n",
       "      <td>6.0</td>\n",
       "      <td>1-17</td>\n",
       "      <td>40.442926</td>\n",
       "      <td>-80.039711</td>\n",
       "    </tr>\n",
       "    <tr>\n",
       "      <th>2</th>\n",
       "      <td>2032091917</td>\n",
       "      <td>129</td>\n",
       "      <td>Middle East Memorial Plaque</td>\n",
       "      <td>NaN</td>\n",
       "      <td>War Memorials</td>\n",
       "      <td>NaN</td>\n",
       "      <td>NaN</td>\n",
       "      <td>Central Business District</td>\n",
       "      <td>6.0</td>\n",
       "      <td>1.0</td>\n",
       "      <td>4.200302e+10</td>\n",
       "      <td>6.0</td>\n",
       "      <td>1.0</td>\n",
       "      <td>2.0</td>\n",
       "      <td>1-4</td>\n",
       "      <td>40.438092</td>\n",
       "      <td>-79.996852</td>\n",
       "    </tr>\n",
       "    <tr>\n",
       "      <th>3</th>\n",
       "      <td>1447629273</td>\n",
       "      <td>143</td>\n",
       "      <td>L'Enfant</td>\n",
       "      <td>Paul Roger-Bloche</td>\n",
       "      <td>Historic Art</td>\n",
       "      <td>NaN</td>\n",
       "      <td>NaN</td>\n",
       "      <td>Carrick</td>\n",
       "      <td>4.0</td>\n",
       "      <td>29.0</td>\n",
       "      <td>4.200329e+10</td>\n",
       "      <td>3.0</td>\n",
       "      <td>29.0</td>\n",
       "      <td>3.0</td>\n",
       "      <td>4-23</td>\n",
       "      <td>40.388748</td>\n",
       "      <td>-79.986497</td>\n",
       "    </tr>\n",
       "    <tr>\n",
       "      <th>4</th>\n",
       "      <td>1935017944</td>\n",
       "      <td>148</td>\n",
       "      <td>Veterans Memorial (Brookline)</td>\n",
       "      <td>NaN</td>\n",
       "      <td>War Memorials</td>\n",
       "      <td>Brookline Monument</td>\n",
       "      <td>NaN</td>\n",
       "      <td>Brookline</td>\n",
       "      <td>4.0</td>\n",
       "      <td>19.0</td>\n",
       "      <td>4.200319e+10</td>\n",
       "      <td>5.0</td>\n",
       "      <td>19.0</td>\n",
       "      <td>6.0</td>\n",
       "      <td>4-26</td>\n",
       "      <td>40.391721</td>\n",
       "      <td>-80.016981</td>\n",
       "    </tr>\n",
       "  </tbody>\n",
       "</table>\n",
       "</div>"
      ],
      "text/plain": [
       "           id  name                              title        artist_name  \\\n",
       "0   812728309  1001              Oakwood Road Monument                NaN   \n",
       "1   188255168  1002  Rooster Waiting For The Streetcar        James Simon   \n",
       "2  2032091917   129        Middle East Memorial Plaque                NaN   \n",
       "3  1447629273   143                           L'Enfant  Paul Roger-Bloche   \n",
       "4  1935017944   148      Veterans Memorial (Brookline)                NaN   \n",
       "\n",
       "                      art_type                park image  \\\n",
       "0                          NaN                 NaN   NaN   \n",
       "1  Modern and Contemporary Art                 NaN   NaN   \n",
       "2                War Memorials                 NaN   NaN   \n",
       "3                 Historic Art                 NaN   NaN   \n",
       "4                War Memorials  Brookline Monument   NaN   \n",
       "\n",
       "                neighborhood  council_district  ward         tract  \\\n",
       "0                    Oakwood               2.0  28.0  4.200356e+10   \n",
       "1                    Elliott               2.0  20.0  4.200356e+10   \n",
       "2  Central Business District               6.0   1.0  4.200302e+10   \n",
       "3                    Carrick               4.0  29.0  4.200329e+10   \n",
       "4                  Brookline               4.0  19.0  4.200319e+10   \n",
       "\n",
       "   public_works_division  pli_division  police_zone fire_zone   latitude  \\\n",
       "0                    5.0          28.0          6.0      1-19  40.429192   \n",
       "1                    5.0          20.0          6.0      1-17  40.442926   \n",
       "2                    6.0           1.0          2.0       1-4  40.438092   \n",
       "3                    3.0          29.0          3.0      4-23  40.388748   \n",
       "4                    5.0          19.0          6.0      4-26  40.391721   \n",
       "\n",
       "   longitude  \n",
       "0 -80.066225  \n",
       "1 -80.039711  \n",
       "2 -79.996852  \n",
       "3 -79.986497  \n",
       "4 -80.016981  "
      ]
     },
     "execution_count": 11,
     "metadata": {},
     "output_type": "execute_result"
    }
   ],
   "source": [
    "publicArt = pd.read_csv(\"public-art.csv\")\n",
    "publicArt.head(5)"
   ]
  },
  {
   "cell_type": "markdown",
   "metadata": {},
   "source": [
    "Let's group the data by neighborhoods and see the number of public art pieces in each of the neighborhood:"
   ]
  },
  {
   "cell_type": "code",
   "execution_count": 12,
   "metadata": {},
   "outputs": [
    {
     "data": {
      "text/plain": [
       "neighborhood\n",
       "Allegheny Center             18\n",
       "Allegheny West                1\n",
       "Allentown                     2\n",
       "Beechview                     8\n",
       "Beltzhoover                   3\n",
       "Bloomfield                    1\n",
       "Brighton Heights              5\n",
       "Brookline                     2\n",
       "Carrick                       3\n",
       "Central Business District    27\n",
       "Central Lawrenceville         2\n",
       "Central Oakland               5\n",
       "Crafton Heights               1\n",
       "Crawford-Roberts              3\n",
       "Duquesne Heights              3\n",
       "East Allegheny                2\n",
       "East Carnegie                 1\n",
       "East Hills                    1\n",
       "East Liberty                  1\n",
       "Elliott                       3\n",
       "Esplen                        1\n",
       "Garfield                      2\n",
       "Greenfield                    3\n",
       "Hays                          1\n",
       "Hazelwood                     4\n",
       "Highland Park                10\n",
       "Knoxville                     1\n",
       "Lincoln-Lemington-Belmar      2\n",
       "Lower Lawrenceville           5\n",
       "Manchester                    1\n",
       "Mount Washington              2\n",
       "North Oakland                 1\n",
       "North Shore                   8\n",
       "Oakwood                       1\n",
       "Overbrook                     1\n",
       "Perry North                   2\n",
       "Perry South                   1\n",
       "Point Breeze                  3\n",
       "Polish Hill                   1\n",
       "Regent Square                 2\n",
       "Shadyside                     6\n",
       "Sheraden                      1\n",
       "South Side Flats             10\n",
       "South Side Slopes             3\n",
       "Spring Garden                 2\n",
       "Spring Hill-City View         4\n",
       "Squirrel Hill North           2\n",
       "Squirrel Hill South          22\n",
       "Stanton Heights               1\n",
       "Strip District                2\n",
       "Swisshelm Park                1\n",
       "Troy Hill                     1\n",
       "Upper Hill                    2\n",
       "Upper Lawrenceville           1\n",
       "West End                      2\n",
       "Name: id, dtype: int64"
      ]
     },
     "execution_count": 12,
     "metadata": {},
     "output_type": "execute_result"
    }
   ],
   "source": [
    "length = len(publicArt.groupby(\"neighborhood\"))\n",
    "publicArt.groupby(\"neighborhood\").count().loc[:,\"id\"][:length]"
   ]
  },
  {
   "cell_type": "markdown",
   "metadata": {},
   "source": [
    "Furthermore, let's sort the data in descending order so we can have a better understanding of which neighborhoods have more pieces of public art."
   ]
  },
  {
   "cell_type": "code",
   "execution_count": 18,
   "metadata": {},
   "outputs": [
    {
     "data": {
      "text/plain": [
       "neighborhood\n",
       "Central Business District    27\n",
       "Squirrel Hill South          22\n",
       "Allegheny Center             18\n",
       "South Side Flats             10\n",
       "Highland Park                10\n",
       "North Shore                   8\n",
       "Beechview                     8\n",
       "Shadyside                     6\n",
       "Brighton Heights              5\n",
       "Central Oakland               5\n",
       "Lower Lawrenceville           5\n",
       "Hazelwood                     4\n",
       "Spring Hill-City View         4\n",
       "Greenfield                    3\n",
       "Point Breeze                  3\n",
       "Elliott                       3\n",
       "Duquesne Heights              3\n",
       "South Side Slopes             3\n",
       "Crawford-Roberts              3\n",
       "Carrick                       3\n",
       "Beltzhoover                   3\n",
       "Spring Garden                 2\n",
       "Regent Square                 2\n",
       "Squirrel Hill North           2\n",
       "Perry North                   2\n",
       "Strip District                2\n",
       "Upper Hill                    2\n",
       "Mount Washington              2\n",
       "Lincoln-Lemington-Belmar      2\n",
       "West End                      2\n",
       "Allentown                     2\n",
       "Garfield                      2\n",
       "Brookline                     2\n",
       "Central Lawrenceville         2\n",
       "East Allegheny                2\n",
       "East Carnegie                 1\n",
       "Upper Lawrenceville           1\n",
       "Troy Hill                     1\n",
       "Swisshelm Park                1\n",
       "Bloomfield                    1\n",
       "Stanton Heights               1\n",
       "Crafton Heights               1\n",
       "Manchester                    1\n",
       "Allegheny West                1\n",
       "Sheraden                      1\n",
       "East Liberty                  1\n",
       "Esplen                        1\n",
       "Polish Hill                   1\n",
       "Perry South                   1\n",
       "Hays                          1\n",
       "Overbrook                     1\n",
       "Oakwood                       1\n",
       "Knoxville                     1\n",
       "North Oakland                 1\n",
       "East Hills                    1\n",
       "Name: id, dtype: int64"
      ]
     },
     "execution_count": 18,
     "metadata": {},
     "output_type": "execute_result"
    }
   ],
   "source": [
    "art_sort = publicArt.groupby(\"neighborhood\").count().loc[:,\"id\"].sort_values(ascending=False)\n",
    "art_sort[:length]"
   ]
  },
  {
   "cell_type": "markdown",
   "metadata": {},
   "source": [
    "Plot the data as a bar graph:"
   ]
  },
  {
   "cell_type": "code",
   "execution_count": 16,
   "metadata": {},
   "outputs": [
    {
     "data": {
      "text/plain": [
       "<AxesSubplot:xlabel='neighborhood'>"
      ]
     },
     "execution_count": 16,
     "metadata": {},
     "output_type": "execute_result"
    },
    {
     "data": {
      "image/png": "[encoded data removed]",
      "text/plain": [
       "<Figure size 2160x144 with 1 Axes>"
      ]
     },
     "metadata": {
      "needs_background": "light"
     },
     "output_type": "display_data"
    }
   ],
   "source": [
    "art_sort[:length].plot.bar(figsize = (30, 2))"
   ]
  },
  {
   "cell_type": "markdown",
   "metadata": {},
   "source": [
    "Based on our data, we get the conclusion that Central Business District is the best neighborhood while East Hills is the worst one."
   ]
  }
 ],
 "metadata": {
  "kernelspec": {
   "display_name": "Python 3",
   "language": "python",
   "name": "python3"
  },
  "language_info": {
   "codemirror_mode": {
    "name": "ipython",
    "version": 3
   },
   "file_extension": ".py",
   "mimetype": "text/x-python",
   "name": "python",
   "nbconvert_exporter": "python",
   "pygments_lexer": "ipython3",
   "version": "3.8.5"
  }
 },
 "nbformat": 4,
 "nbformat_minor": 4
}
